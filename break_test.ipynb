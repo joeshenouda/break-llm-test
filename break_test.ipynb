{
 "cells": [
  {
   "cell_type": "code",
   "execution_count": 1,
   "metadata": {},
   "outputs": [],
   "source": [
    "import numpy as np\n",
    "import torch\n",
    "import os\n",
    "os.chdir(\"/home/jshenouda/break_test_llms\")  # Change to the actual subdirectory name\n",
    "from train_mnist import MLP\n",
    "import torch.nn as nn\n",
    "from torchvision import datasets, transforms"
   ]
  },
  {
   "cell_type": "code",
   "execution_count": 7,
   "metadata": {},
   "outputs": [],
   "source": [
    "def modify_mlp(model, D_mats= None):\n",
    "    \"\"\"Modify an MLP model by applying deep reparameterization ensuring network equivalence.\"\"\"\n",
    "    modified_model = MLP(model.model[0].in_features, \n",
    "                          [layer.out_features for layer in model.model if isinstance(layer, nn.Linear)][:-1], \n",
    "                          model.model[-1].out_features)\n",
    "    if D_mats is None:\n",
    "        # Generate the D_k matrices if non given\n",
    "        D_mats = []\n",
    "        # count number of ReLU layers\n",
    "        num_hidden = sum(1 for layer in model.model if isinstance(layer, nn.ReLU))\n",
    "        for layer in model.model:\n",
    "            if len(D_mats) == num_hidden:\n",
    "                break\n",
    "            if isinstance(layer, nn.Linear):\n",
    "                D = torch.diag(torch.rand(layer.out_features) * 0.9 + 0.01)\n",
    "                D_mats.append(D)\n",
    "    \n",
    "    with torch.no_grad():\n",
    "        i = 0\n",
    "        for (orig_layer, new_layer) in zip(model.model, modified_model.model):\n",
    "            if isinstance(orig_layer, nn.Linear):\n",
    "                if i < model.affine_layers-1:\n",
    "                    if i == 0:\n",
    "                        new_layer.weight.data = torch.inverse(D_mats[0]) @ orig_layer.weight.data\n",
    "                        new_layer.bias.data = torch.inverse(D_mats[0]) @ orig_layer.bias.data\n",
    "                    else:\n",
    "                        new_layer.weight.data = torch.inverse(D_mats[i]) @ orig_layer.weight.data @ D_mats[i-1]\n",
    "                        new_layer.bias.data = torch.inverse(D_mats[i]) @ orig_layer.bias.data\n",
    "                else:\n",
    "                    # For the last linear layer\n",
    "                    new_layer.weight.data = orig_layer.weight.data @ D_mats[-1]\n",
    "                    new_layer.bias.data = orig_layer.bias.data\n",
    "\n",
    "                i += 1\n",
    "\n",
    "    return modified_model, D_mats\n"
   ]
  },
  {
   "cell_type": "code",
   "execution_count": 8,
   "metadata": {},
   "outputs": [
    {
     "data": {
      "text/plain": [
       "<All keys matched successfully>"
      ]
     },
     "execution_count": 8,
     "metadata": {},
     "output_type": "execute_result"
    }
   ],
   "source": [
    "input_dim = 28*28\n",
    "num_layers = 6\n",
    "hidden_dims = [100]*num_layers  # 6 hidden layers\n",
    "output_dim = 10\n",
    "\n",
    "trained_model = MLP(input_dim, hidden_dims, output_dim)\n",
    "\n",
    "# Load the trained model\n",
    "trained_model.load_state_dict(torch.load(\"mnist_mlp_6_layers.pt\"))"
   ]
  },
  {
   "cell_type": "code",
   "execution_count": 9,
   "metadata": {},
   "outputs": [],
   "source": [
    "# Modify the model\n",
    "modified_model, D_matrices = modify_mlp(trained_model)"
   ]
  },
  {
   "cell_type": "code",
   "execution_count": 10,
   "metadata": {},
   "outputs": [],
   "source": [
    "transform=transforms.Compose([\n",
    "        transforms.ToTensor(),\n",
    "        transforms.Normalize((0.1307,), (0.3081,))\n",
    "        ])\n",
    "\n",
    "test_data= datasets.MNIST('../data', train=False,\n",
    "                       transform=transform)\n",
    "\n",
    "test_loader = torch.utils.data.DataLoader(test_data, batch_size=10000, shuffle=False)\n",
    "\n",
    "def ensure_models_equivalent(model1, model2, test_loader, device):\n",
    "    \"\"\"Ensure two models produce the same output for all 10,000 test MNIST samples.\"\"\"\n",
    "    model1.to(device)   \n",
    "    model2.to(device)\n",
    "    model1.eval()\n",
    "    model2.eval()\n",
    "    \n",
    "    with torch.no_grad():\n",
    "        for data, _ in test_loader:\n",
    "            data = data.to(device)\n",
    "            output1 = model1(data)\n",
    "            output2 = model2(data)\n",
    "            \n",
    "            dist = torch.linalg.norm(output1 - output2, ord='fro')**2\n",
    "    \n",
    "    return dist\n"
   ]
  },
  {
   "cell_type": "code",
   "execution_count": 11,
   "metadata": {},
   "outputs": [
    {
     "name": "stdout",
     "output_type": "stream",
     "text": [
      "tensor(5.3594e-06, device='cuda:0')\n"
     ]
    }
   ],
   "source": [
    "# Ensure both models are equivalent\n",
    "device = torch.device(\"cuda\" if torch.cuda.is_available() else \"cpu\")\n",
    "print(ensure_models_equivalent(trained_model, modified_model, test_loader, device))"
   ]
  }
 ],
 "metadata": {
  "kernelspec": {
   "display_name": "Python 3",
   "language": "python",
   "name": "python3"
  },
  "language_info": {
   "codemirror_mode": {
    "name": "ipython",
    "version": 3
   },
   "file_extension": ".py",
   "mimetype": "text/x-python",
   "name": "python",
   "nbconvert_exporter": "python",
   "pygments_lexer": "ipython3",
   "version": "3.9.18"
  }
 },
 "nbformat": 4,
 "nbformat_minor": 2
}
