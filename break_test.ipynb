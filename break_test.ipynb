{
 "cells": [
  {
   "cell_type": "code",
   "execution_count": 1,
   "metadata": {},
   "outputs": [],
   "source": [
    "import numpy as np\n",
    "import torch\n",
    "import os\n",
    "os.chdir(\"/home/jshenouda/break_test_llms\")  # Change to the actual subdirectory name\n",
    "from train_mnist import MLP\n",
    "import torch.nn as nn\n",
    "from torchvision import datasets, transforms"
   ]
  },
  {
   "cell_type": "code",
   "execution_count": 37,
   "metadata": {},
   "outputs": [],
   "source": [
    "def modify_mlp(model, D_mats= None):\n",
    "    \"\"\"Modify an MLP model by applying deep reparameterization ensuring network equivalence.\"\"\"\n",
    "    modified_model = MLP(model.model[0].in_features, \n",
    "                          [layer.out_features for layer in model.model if isinstance(layer, nn.Linear)][:-1], \n",
    "                          model.model[-1].out_features)\n",
    "    if D_mats is None:\n",
    "        # controls distortion to mess up cosine sim\n",
    "        lam = 5\n",
    "\n",
    "        # Generate the D_k matrices if non given\n",
    "        D_mats = []\n",
    "        # count number of ReLU layers\n",
    "        num_hidden = sum(1 for layer in model.model if isinstance(layer, nn.ReLU))\n",
    "        for layer in model.model:\n",
    "            if len(D_mats) == num_hidden:\n",
    "                break\n",
    "            if isinstance(layer, nn.Linear):\n",
    "                max_exp = 30  # Limit exponent growth\n",
    "                i = torch.linspace(-max_exp, max_exp, layer.out_features)\n",
    "                D1_values = torch.exp(i)\n",
    "                D = torch.diag(D1_values)\n",
    "                # D = torch.diag(torch.tensor([lam**j for j in range(layer.out_features)])).to(torch.float)\n",
    "                D_mats.append(D)\n",
    "    \n",
    "    with torch.no_grad():\n",
    "        i = 0\n",
    "        for (orig_layer, new_layer) in zip(model.model, modified_model.model):\n",
    "            if isinstance(orig_layer, nn.Linear):\n",
    "                if i < model.affine_layers-1:\n",
    "                    if i == 0:\n",
    "                        new_layer.weight.data = torch.inverse(D_mats[0]) @ orig_layer.weight.data\n",
    "                        new_layer.bias.data = torch.inverse(D_mats[0]) @ orig_layer.bias.data\n",
    "                    else:\n",
    "                        new_layer.weight.data = torch.inverse(D_mats[i]) @ orig_layer.weight.data @ D_mats[i-1]\n",
    "                        new_layer.bias.data = torch.inverse(D_mats[i]) @ orig_layer.bias.data\n",
    "                else:\n",
    "                    # For the last linear layer\n",
    "                    new_layer.weight.data = orig_layer.weight.data @ D_mats[-1]\n",
    "                    new_layer.bias.data = orig_layer.bias.data\n",
    "\n",
    "                i += 1\n",
    "\n",
    "    return modified_model, D_mats\n"
   ]
  },
  {
   "cell_type": "code",
   "execution_count": 38,
   "metadata": {},
   "outputs": [
    {
     "data": {
      "text/plain": [
       "<All keys matched successfully>"
      ]
     },
     "execution_count": 38,
     "metadata": {},
     "output_type": "execute_result"
    }
   ],
   "source": [
    "input_dim = 28*28\n",
    "num_layers = 6\n",
    "hidden_dims = [100]*num_layers  # 6 hidden layers\n",
    "output_dim = 10\n",
    "\n",
    "trained_model = MLP(input_dim, hidden_dims, output_dim)\n",
    "\n",
    "# Load the trained model\n",
    "trained_model.load_state_dict(torch.load(\"mnist_mlp_6_layers.pt\"))"
   ]
  },
  {
   "cell_type": "code",
   "execution_count": 39,
   "metadata": {},
   "outputs": [],
   "source": [
    "# Modify the model\n",
    "modified_model, D_matrices = modify_mlp(trained_model)"
   ]
  },
  {
   "cell_type": "code",
   "execution_count": 40,
   "metadata": {},
   "outputs": [],
   "source": [
    "transform=transforms.Compose([\n",
    "        transforms.ToTensor(),\n",
    "        transforms.Normalize((0.1307,), (0.3081,))\n",
    "        ])\n",
    "\n",
    "test_data= datasets.MNIST('../data', train=False,\n",
    "                       transform=transform)\n",
    "\n",
    "test_loader = torch.utils.data.DataLoader(test_data, batch_size=10000, shuffle=False)\n",
    "\n",
    "def ensure_models_equivalent(model1, model2, test_loader, device):\n",
    "    \"\"\"Ensure two models produce the same output for all 10,000 test MNIST samples.\"\"\"\n",
    "    model1.to(device)   \n",
    "    model2.to(device)\n",
    "    model1.eval()\n",
    "    model2.eval()\n",
    "    \n",
    "    with torch.no_grad():\n",
    "        for data, _ in test_loader:\n",
    "            data = data.to(device)\n",
    "            output1 = model1(data)\n",
    "            output2 = model2(data)\n",
    "            \n",
    "            dist = torch.linalg.norm(output1 - output2, ord='fro')**2\n",
    "    \n",
    "    return dist\n"
   ]
  },
  {
   "cell_type": "code",
   "execution_count": 41,
   "metadata": {},
   "outputs": [
    {
     "name": "stdout",
     "output_type": "stream",
     "text": [
      "tensor(4.4379e-06, device='cuda:0')\n"
     ]
    }
   ],
   "source": [
    "# Ensure both models are equivalent\n",
    "device = torch.device(\"cuda\" if torch.cuda.is_available() else \"cpu\")\n",
    "print(ensure_models_equivalent(trained_model, modified_model, test_loader, device))"
   ]
  },
  {
   "cell_type": "code",
   "execution_count": 42,
   "metadata": {},
   "outputs": [],
   "source": [
    "# For each weight matrix compare cossine similarity between rows of original weigth matrix and modified weight matrix\n",
    "def compare_weights(model1, model2):\n",
    "    with torch.no_grad():\n",
    "        for (layer1, layer2) in zip(model1.model, model2.model):\n",
    "            if isinstance(layer1, nn.Linear):\n",
    "                cos_sim = nn.CosineSimilarity(dim=1)\n",
    "                sim = cos_sim(layer1.weight, layer2.weight)\n",
    "                print(sim)"
   ]
  },
  {
   "cell_type": "code",
   "execution_count": 43,
   "metadata": {},
   "outputs": [
    {
     "name": "stdout",
     "output_type": "stream",
     "text": [
      "tensor([1.0000e+00, 1.0000e+00, 1.0000e+00, 1.0000e+00, 1.0000e+00, 1.0000e+00,\n",
      "        1.0000e+00, 1.0000e+00, 1.0000e+00, 1.0000e+00, 1.0000e+00, 1.0000e+00,\n",
      "        1.0000e+00, 1.0000e+00, 1.0000e+00, 1.0000e+00, 1.0000e+00, 1.0000e+00,\n",
      "        1.0000e+00, 1.0000e+00, 1.0000e+00, 1.0000e+00, 1.0000e+00, 1.0000e+00,\n",
      "        1.0000e+00, 1.0000e+00, 1.0000e+00, 1.0000e+00, 1.0000e+00, 1.0000e+00,\n",
      "        1.0000e+00, 1.0000e+00, 1.0000e+00, 1.0000e+00, 1.0000e+00, 1.0000e+00,\n",
      "        1.0000e+00, 1.0000e+00, 1.0000e+00, 1.0000e+00, 1.0000e+00, 1.0000e+00,\n",
      "        1.0000e+00, 1.0000e+00, 1.0000e+00, 1.0000e+00, 1.0000e+00, 1.0000e+00,\n",
      "        1.0000e+00, 1.0000e+00, 1.0000e+00, 1.0000e+00, 1.0000e+00, 1.0000e+00,\n",
      "        1.0000e+00, 1.0000e+00, 1.0000e+00, 1.0000e+00, 1.0000e+00, 1.0000e+00,\n",
      "        1.0000e+00, 1.0000e+00, 1.0000e+00, 1.0000e+00, 1.0000e+00, 1.0000e+00,\n",
      "        1.0000e+00, 1.0000e+00, 1.0000e+00, 1.0000e+00, 1.0000e+00, 1.0000e+00,\n",
      "        1.0000e+00, 1.0000e+00, 1.0000e+00, 1.0000e+00, 1.0000e+00, 1.0000e+00,\n",
      "        1.0000e+00, 1.0000e+00, 1.0000e+00, 1.0000e+00, 6.1892e-01, 1.4986e-01,\n",
      "        4.4569e-01, 2.0985e-01, 1.1936e-01, 2.5537e-02, 3.4244e-02, 8.9439e-03,\n",
      "        9.3881e-03, 1.2862e-03, 9.0915e-04, 1.8157e-03, 9.2772e-04, 4.3628e-04,\n",
      "        2.7113e-04, 3.3137e-05, 7.3358e-05, 1.2506e-05], device='cuda:0')\n",
      "tensor([0.0000, 0.0000, 0.0000, 0.0000, 0.0000, 0.0000, 0.0000, 0.0000, 0.0000,\n",
      "        0.0000, 0.0000, 0.0000, 0.0000, 0.0000, 0.0000, 0.0000, 0.0000, 0.0000,\n",
      "        0.0000, 0.0000, 0.0000, 0.0000, 0.0000, 0.1712, 0.1039, 0.1735, 0.0946,\n",
      "        0.0752, 0.2200, 0.2370, 0.2763, 0.1783, 0.0958, 0.3006, 0.1357, 0.1554,\n",
      "        0.1140, 0.1321, 0.0992, 0.2283, 0.1885, 0.1207, 0.1535, 0.1776, 0.1704,\n",
      "        0.3468, 0.1439, 0.1843, 0.1165, 0.1776, 0.1832, 0.2189, 0.2273, 0.2678,\n",
      "        0.1393, 0.2963, 0.1317, 0.1670, 0.1350, 0.1188, 0.2722, 0.0976, 0.2165,\n",
      "        0.2406, 0.2327, 0.0840, 0.0690, 0.1525, 0.0991, 0.1927, 0.1611, 0.1138,\n",
      "        0.0878, 0.2158, 0.1539, 0.1343, 0.0841, 0.1704, 0.2096, 0.1419, 0.2127,\n",
      "        0.1312, 0.2102, 0.1985, 0.1289, 0.1300, 0.2782, 0.0633, 0.1897, 0.2035,\n",
      "        0.2122, 0.1692, 0.2750, 0.0969, 0.1755, 0.2547, 0.3023, 0.2323, 0.1113,\n",
      "        0.1825], device='cuda:0')\n",
      "tensor([0.0000, 0.0000, 0.0000, 0.0000, 0.0000, 0.0000, 0.0000, 0.0000, 0.0000,\n",
      "        0.0000, 0.0000, 0.0000, 0.0000, 0.0000, 0.0000, 0.0000, 0.0000, 0.0000,\n",
      "        0.0000, 0.0000, 0.0000, 0.0000, 0.1635, 0.2650, 0.2451, 0.1742, 0.1631,\n",
      "        0.1848, 0.1824, 0.3131, 0.2784, 0.1674, 0.2279, 0.1861, 0.1339, 0.1469,\n",
      "        0.1345, 0.2291, 0.1213, 0.2169, 0.2319, 0.1993, 0.1775, 0.1820, 0.1679,\n",
      "        0.1823, 0.1822, 0.2753, 0.1510, 0.2681, 0.1344, 0.1333, 0.2344, 0.1531,\n",
      "        0.1575, 0.2514, 0.1829, 0.2670, 0.1357, 0.2071, 0.1347, 0.1690, 0.1805,\n",
      "        0.2081, 0.1354, 0.1828, 0.2414, 0.2302, 0.2187, 0.1414, 0.2529, 0.1273,\n",
      "        0.2155, 0.1926, 0.1331, 0.1966, 0.1997, 0.2968, 0.1971, 0.1462, 0.2418,\n",
      "        0.3194, 0.1796, 0.1427, 0.2050, 0.1612, 0.0863, 0.1847, 0.2038, 0.1680,\n",
      "        0.1058, 0.2289, 0.1477, 0.1758, 0.1372, 0.1925, 0.2479, 0.2493, 0.1196,\n",
      "        0.1808], device='cuda:0')\n",
      "tensor([0.0000, 0.0000, 0.0000, 0.0000, 0.0000, 0.0000, 0.0000, 0.0000, 0.0000,\n",
      "        0.0000, 0.0000, 0.0000, 0.0000, 0.0000, 0.0000, 0.0000, 0.0000, 0.0000,\n",
      "        0.0000, 0.0000, 0.0000, 0.0000, 0.1707, 0.1118, 0.1377, 0.0784, 0.2713,\n",
      "        0.1323, 0.2009, 0.2505, 0.1950, 0.1023, 0.1807, 0.1526, 0.1353, 0.2484,\n",
      "        0.1984, 0.1915, 0.2200, 0.2420, 0.0949, 0.1589, 0.1672, 0.0989, 0.1014,\n",
      "        0.2182, 0.2272, 0.1632, 0.2874, 0.1063, 0.1897, 0.1169, 0.1494, 0.2083,\n",
      "        0.1568, 0.1280, 0.0979, 0.1537, 0.1338, 0.1652, 0.1613, 0.1285, 0.1574,\n",
      "        0.1509, 0.2060, 0.1968, 0.1414, 0.3214, 0.1765, 0.1350, 0.1704, 0.0960,\n",
      "        0.2153, 0.1207, 0.3358, 0.1775, 0.2208, 0.1583, 0.1717, 0.0782, 0.1022,\n",
      "        0.2418, 0.2541, 0.1268, 0.1891, 0.1381, 0.2612, 0.1201, 0.2098, 0.2010,\n",
      "        0.2043, 0.2793, 0.1809, 0.2349, 0.1248, 0.2073, 0.1172, 0.1307, 0.3111,\n",
      "        0.1627], device='cuda:0')\n",
      "tensor([0.0000, 0.0000, 0.0000, 0.0000, 0.0000, 0.0000, 0.0000, 0.0000, 0.0000,\n",
      "        0.0000, 0.0000, 0.0000, 0.0000, 0.0000, 0.0000, 0.0000, 0.0000, 0.0000,\n",
      "        0.0000, 0.0000, 0.0000, 0.0000, 0.1658, 0.1453, 0.2245, 0.1716, 0.2002,\n",
      "        0.1070, 0.2255, 0.1837, 0.1347, 0.1729, 0.2165, 0.1239, 0.3019, 0.1977,\n",
      "        0.1638, 0.3015, 0.1754, 0.2302, 0.2103, 0.1355, 0.1792, 0.1440, 0.1665,\n",
      "        0.2060, 0.1846, 0.1178, 0.1941, 0.2330, 0.1312, 0.0923, 0.1704, 0.1419,\n",
      "        0.1787, 0.2873, 0.1350, 0.1502, 0.1631, 0.1352, 0.0920, 0.2138, 0.1901,\n",
      "        0.1510, 0.1528, 0.1377, 0.1831, 0.2742, 0.2409, 0.1406, 0.1624, 0.1579,\n",
      "        0.1010, 0.2447, 0.3139, 0.2165, 0.1658, 0.1564, 0.1993, 0.1479, 0.1642,\n",
      "        0.1187, 0.1498, 0.1791, 0.1514, 0.2071, 0.2956, 0.1278, 0.3179, 0.2191,\n",
      "        0.1732, 0.1540, 0.1373, 0.1584, 0.1807, 0.2337, 0.1668, 0.1044, 0.1889,\n",
      "        0.2203], device='cuda:0')\n",
      "tensor([0.0000, 0.0000, 0.0000, 0.0000, 0.0000, 0.0000, 0.0000, 0.0000, 0.0000,\n",
      "        0.0000, 0.0000, 0.0000, 0.0000, 0.0000, 0.0000, 0.0000, 0.0000, 0.0000,\n",
      "        0.0000, 0.0000, 0.0000, 0.0000, 0.0000, 0.1728, 0.1455, 0.1816, 0.1224,\n",
      "        0.2591, 0.1428, 0.3395, 0.2389, 0.1588, 0.1825, 0.2520, 0.2618, 0.2014,\n",
      "        0.2102, 0.2064, 0.2270, 0.2595, 0.1391, 0.2171, 0.1926, 0.1427, 0.1423,\n",
      "        0.1364, 0.2604, 0.1742, 0.3110, 0.2831, 0.1785, 0.3187, 0.2538, 0.2077,\n",
      "        0.2597, 0.1335, 0.1691, 0.2991, 0.1607, 0.1662, 0.1298, 0.2494, 0.1221,\n",
      "        0.1958, 0.3066, 0.1782, 0.1637, 0.1715, 0.1030, 0.1550, 0.2421, 0.1836,\n",
      "        0.2002, 0.2522, 0.1683, 0.1624, 0.1556, 0.1843, 0.1578, 0.1156, 0.1373,\n",
      "        0.2170, 0.1867, 0.1457, 0.3031, 0.2910, 0.1835, 0.1802, 0.2128, 0.1986,\n",
      "        0.2501, 0.1095, 0.2073, 0.2545, 0.1880, 0.1736, 0.1995, 0.1753, 0.2530,\n",
      "        0.1513], device='cuda:0')\n",
      "tensor([0.2647, 0.2614, 0.1484, 0.1651, 0.1256, 0.3025, 0.2647, 0.1147, 0.2055,\n",
      "        0.1621], device='cuda:0')\n"
     ]
    }
   ],
   "source": [
    "compare_weights(trained_model, modified_model)"
   ]
  },
  {
   "cell_type": "code",
   "execution_count": null,
   "metadata": {},
   "outputs": [],
   "source": []
  }
 ],
 "metadata": {
  "kernelspec": {
   "display_name": "Python 3",
   "language": "python",
   "name": "python3"
  }
 },
 "nbformat": 4,
 "nbformat_minor": 2
}
